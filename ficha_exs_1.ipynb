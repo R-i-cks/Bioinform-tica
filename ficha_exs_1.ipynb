{
 "cells": [
  {
   "cell_type": "markdown",
   "metadata": {},
   "source": [
    "# Bioinformática - Workshop 1\n",
    "# Ficha de exercícios 1"
   ]
  },
  {
   "cell_type": "markdown",
   "metadata": {},
   "source": [
    "## Exercício 1\n"
   ]
  },
  {
   "cell_type": "code",
   "execution_count": null,
   "metadata": {},
   "outputs": [],
   "source": [
    "# O módulo math implementa algumas funções matemáticas como a raiz quadrada (sqrt), seno, cosseno, etc..\n",
    "import math\n",
    "a = float(input('Cateto 1: '))\n",
    "b = float(input('Cateto 2: '))\n",
    "hip = math.sqrt(a**2 + b**2)\n",
    "print('O valor da hipotenusa é ' + str(hip))\n"
   ]
  },
  {
   "cell_type": "markdown",
   "metadata": {},
   "source": [
    "## Exercício 2\n",
    "A função type(x) permite verificar o tipo de uma variável <br>\n",
    "O operador // efetua a divisão inteira <br>\n",
    "O operador % apresenta o resto da divisão inteira <br>\n",
    "Para obter uma lista dos n primeiros múltiplos de um número k pode utilizar l=[k*i for i in range(1,n+1)] (porquê n+1?)\n"
   ]
  },
  {
   "cell_type": "code",
   "execution_count": null,
   "metadata": {},
   "outputs": [],
   "source": [
    "a = 11\n",
    "type(a)\n",
    "\n",
    "if (a%3 == 0): \n",
    "    print('Divisível') \n",
    "else: print('Indivisível')\n",
    "\n",
    "print(a%10)\n",
    "\n",
    "print(math.sqrt(a))\n",
    "\n",
    "mult = []\n",
    "for i in range(2,7):\n",
    "    mult.append(a*i)\n",
    "print(mult)\n"
   ]
  },
  {
   "cell_type": "code",
   "execution_count": null,
   "metadata": {},
   "outputs": [],
   "source": [
    "   "
   ]
  },
  {
   "cell_type": "markdown",
   "metadata": {},
   "source": [
    "## Exercício 3"
   ]
  },
  {
   "cell_type": "code",
   "execution_count": null,
   "metadata": {},
   "outputs": [],
   "source": [
    "import random\n",
    "l = [random.randint(1,20) for i in range(10)]\n",
    "med = sum(l)/len(l)\n",
    "print(med)\n",
    "\n",
    "max_min =(max(l),min(l))\n",
    "print(max_min)\n",
    "\n",
    "print('A melhor nota está na posição '+ str(l.index(max(l))))\n",
    "\n",
    "print('Aprovado') if l[0]>=10 else print('Reprovado')\n",
    "\n",
    "l_sorted = sorted(l)\n",
    "print(l_sorted)"
   ]
  },
  {
   "cell_type": "code",
   "execution_count": null,
   "metadata": {},
   "outputs": [],
   "source": []
  },
  {
   "cell_type": "markdown",
   "metadata": {},
   "source": [
    "## Exercício 4 "
   ]
  },
  {
   "cell_type": "code",
   "execution_count": null,
   "metadata": {},
   "outputs": [],
   "source": [
    "sequencia = \"ACTCTTCTGGTCCCCACAGACTCAGAGAGAACCCACCATGGTGCTGTCTCCTGCCGACAAGACCAACGTCAAGGCCGCCTGGGGTAAGGTCGGCGCGCACGCTGGCGAGTATGGTGCGGAGGCCCTGGAGAGgtgaggctccctcccctgctccgacccgtgctcctcgcccgcccggacccacaggccaccctcaaccgtcctggccccggacccaaaccccacccctcactctgcttctccccgcagGATGTTCCTGTCCTTCCCCACCACCAAGACCTACTTCCCGCACTTCGACCTGAGCCACGGCTCTGCCCAGGTTAAGGGCCACGGCAAGAAGGTGGCCGACGCGCTGACCAACGCCGTGGCGCACGTGGACGACATGCCCAACGCGCTGTCCGCCCTGAGCGACCTGCACGCGCACAAGCTTCGGGTGGACCCGGTCAACTTCAAG\"\n",
    "newseq = sequencia.upper()\n",
    "print(newseq)\n",
    "print(len(sequencia))\n",
    "\n",
    "dic ={'A':newseq.count('A'),'C':newseq.count('C'),'G':newseq.count('G'),'T':newseq.count('T')}\n",
    "print(dic)\n",
    "\n",
    "purinas =dic.get('A') + dic.get('G')\n",
    "print(purinas)\n",
    "\n",
    "pirimidinas=dic.get('T') + dic.get('C')\n",
    "print(pirimidinas)\n",
    "\n",
    "GC = str(((dic.get('C') + dic.get('G'))/len(sequencia))*100) +' %'\n",
    "print(GC)\n",
    "\n",
    "print(newseq.count('ATG'))\n",
    "\n",
    "RNA = newseq.replace('T','U')\n",
    "print(RNA)"
   ]
  },
  {
   "cell_type": "markdown",
   "metadata": {},
   "source": [
    "## Exercício 5"
   ]
  },
  {
   "cell_type": "code",
   "execution_count": null,
   "metadata": {},
   "outputs": [],
   "source": [
    "from audioop import reverse\n",
    "from operator import concat\n",
    "\n",
    "\n",
    "palavra = 'vaca'\n",
    "rev_palavra =[]\n",
    "tam = len(palavra)\n",
    "while tam > 0 :\n",
    "    rev_palavra += palavra[tam-1]\n",
    "    tam = tam -1\n",
    "a_comp = ''.join(rev_palavra)\n",
    "if palavra == a_comp :\n",
    "    print('Pallindrome')\n",
    "else:\n",
    "    print('Not')\n",
    "\n",
    "palavra = palavra.replace('v','b')\n",
    "palavra = concat(palavra,' carago !')\n",
    "print(palavra)\n"
   ]
  },
  {
   "cell_type": "markdown",
   "metadata": {},
   "source": [
    "## Exercício 6"
   ]
  },
  {
   "cell_type": "code",
   "execution_count": null,
   "metadata": {},
   "outputs": [],
   "source": [
    "# completar ...\n",
    "dic ={'A':'adenina', 'C' : 'citosina', 'G' : 'guanina', 'T': 'timina'}\n",
    "print(dic.keys(),dic.values())\n",
    "dic['U'] = 'uracilo'\n",
    "print(dic.keys(),dic.values())"
   ]
  }
 ],
 "metadata": {
  "kernelspec": {
   "display_name": "Python 3.10.4 64-bit",
   "language": "python",
   "name": "python3"
  },
  "language_info": {
   "codemirror_mode": {
    "name": "ipython",
    "version": 3
   },
   "file_extension": ".py",
   "mimetype": "text/x-python",
   "name": "python",
   "nbconvert_exporter": "python",
   "pygments_lexer": "ipython3",
   "version": "3.10.4"
  },
  "vscode": {
   "interpreter": {
    "hash": "916dbcbb3f70747c44a77c7bcd40155683ae19c65e1c03b4aa3499c5328201f1"
   }
  }
 },
 "nbformat": 4,
 "nbformat_minor": 2
}
